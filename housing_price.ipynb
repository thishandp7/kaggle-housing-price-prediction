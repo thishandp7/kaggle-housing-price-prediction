{
 "cells": [
  {
   "cell_type": "code",
   "execution_count": null,
   "id": "initial_id",
   "metadata": {
    "ExecuteTime": {
     "end_time": "2024-08-30T02:41:43.068017Z",
     "start_time": "2024-08-30T02:41:43.065592Z"
    },
    "collapsed": true
   },
   "outputs": [],
   "source": [
    "import numpy as np\n",
    "import pandas as pd\n",
    "import seaborn as sns\n",
    "import matplotlib.pyplot as plt\n",
    "from utils import trim_outliers_by_percentile, plot_box_and_dist, trim_outliers_by_percentile\n",
    "\n",
    "from sklearn.metrics import mean_squared_error, r2_score\n",
    "from sklearn.pipeline import Pipeline\n",
    "from sklearn.compose import ColumnTransformer\n",
    "from sklearn.impute import SimpleImputer\n",
    "from sklearn.preprocessing import StandardScaler, OneHotEncoder, OrdinalEncoder, Normalizer\n",
    "from sklearn.model_selection import train_test_split, GridSearchCV, cross_val_score, ShuffleSplit, cross_validate\n",
    "\n",
    "from sklearn.linear_model import LinearRegression, Ridge\n",
    "from sklearn.ensemble import RandomForestRegressor, GradientBoostingRegressor, VotingRegressor, StackingRegressor\n",
    "from xgboost import XGBRegressor, XGBRFRegressor, DMatrix\n",
    "from catboost import CatBoostRegressor, Pool\n",
    "from lightgbm import LGBMRegressor\n",
    "\n",
    "from scipy import stats\n",
    "\n",
    "import os\n",
    "for dirname, _, filenames in os.walk('data'):\n",
    "    for filename in filenames:\n",
    "        print(os.path.join(dirname, filename))"
   ]
  },
  {
   "cell_type": "code",
   "execution_count": null,
   "id": "35df4deb",
   "metadata": {},
   "outputs": [],
   "source": [
    "plt.style.use('ggplot')\n",
    "sns.set_style('white')\n",
    "# pylab.rcParams['figure.figsize'] = 12,8"
   ]
  },
  {
   "cell_type": "code",
   "execution_count": null,
   "id": "7fa93bd6f8e783b",
   "metadata": {
    "ExecuteTime": {
     "end_time": "2024-08-30T02:41:43.090015Z",
     "start_time": "2024-08-30T02:41:43.068697Z"
    }
   },
   "outputs": [],
   "source": [
    "train_data = pd.read_csv('data/train.csv')\n",
    "test_data = pd.read_csv('data/test.csv')\n",
    "\n",
    "drop_features = []\n",
    "drop_rows = set()"
   ]
  },
  {
   "cell_type": "markdown",
   "id": "72edf6c0c18452c5",
   "metadata": {},
   "source": [
    "# Data analysis\n",
    "## Find missing numerical data"
   ]
  },
  {
   "cell_type": "code",
   "execution_count": null,
   "id": "461b9314366b7d34",
   "metadata": {
    "ExecuteTime": {
     "end_time": "2024-08-30T02:41:43.094965Z",
     "start_time": "2024-08-30T02:41:43.090544Z"
    }
   },
   "outputs": [],
   "source": [
    "missing_data = train_data.isnull().sum()\n",
    "missing_data = missing_data[missing_data > 0].reset_index()\n",
    "missing_data.columns = ['Columns', 'Missing Value Count']\n",
    "missing_data = missing_data.sort_values(by='Missing Value Count', ascending=False)\n",
    "\n",
    "print(missing_data)"
   ]
  },
  {
   "cell_type": "code",
   "execution_count": null,
   "id": "e6512c22eb1cc711",
   "metadata": {
    "ExecuteTime": {
     "end_time": "2024-08-30T02:41:43.103670Z",
     "start_time": "2024-08-30T02:41:43.095440Z"
    }
   },
   "outputs": [],
   "source": [
    "drop_features.extend(['PoolQC', 'MiscFeature', 'Alley', 'Fence', 'GarageYrBlt', 'GarageCond', 'BsmtFinType2'])"
   ]
  },
  {
   "cell_type": "code",
   "execution_count": null,
   "id": "eb0ccdbd743ab9fd",
   "metadata": {
    "ExecuteTime": {
     "end_time": "2024-08-30T02:41:43.114262Z",
     "start_time": "2024-08-30T02:41:43.104185Z"
    }
   },
   "outputs": [],
   "source": [
    "train_data.dtypes[train_data.dtypes != 'object']"
   ]
  },
  {
   "cell_type": "code",
   "execution_count": null,
   "id": "48ba8ab5b968c82f",
   "metadata": {
    "ExecuteTime": {
     "end_time": "2024-08-30T02:41:43.252546Z",
     "start_time": "2024-08-30T02:41:43.114754Z"
    }
   },
   "outputs": [],
   "source": [
    "plot_box_and_dist(train_data, 'MSSubClass')"
   ]
  },
  {
   "cell_type": "code",
   "execution_count": null,
   "id": "9126ab84ad47298",
   "metadata": {
    "ExecuteTime": {
     "end_time": "2024-08-30T02:41:43.257034Z",
     "start_time": "2024-08-30T02:41:43.253405Z"
    }
   },
   "outputs": [],
   "source": [
    "MSSubClass_drop_ids, MSSubClass_percentile_trimmed_train_data = trim_outliers_by_percentile(train_data, 'MSSubClass', 0.05, 0.95)\n",
    "drop_rows.update(MSSubClass_drop_ids)\n",
    "print(drop_rows)"
   ]
  },
  {
   "cell_type": "code",
   "execution_count": null,
   "id": "c29f44d89bcb0fce",
   "metadata": {
    "ExecuteTime": {
     "end_time": "2024-08-30T02:41:43.425930Z",
     "start_time": "2024-08-30T02:41:43.257578Z"
    }
   },
   "outputs": [],
   "source": [
    "plot_box_and_dist(MSSubClass_percentile_trimmed_train_data, 'MSSubClass')"
   ]
  },
  {
   "cell_type": "code",
   "execution_count": null,
   "id": "8a955d314d47aed2",
   "metadata": {
    "ExecuteTime": {
     "end_time": "2024-08-30T02:41:43.544240Z",
     "start_time": "2024-08-30T02:41:43.426504Z"
    }
   },
   "outputs": [],
   "source": [
    "plot_box_and_dist(train_data, 'LotFrontage')"
   ]
  },
  {
   "cell_type": "code",
   "execution_count": null,
   "id": "c723bbce54baf2c5",
   "metadata": {
    "ExecuteTime": {
     "end_time": "2024-08-30T02:41:43.547735Z",
     "start_time": "2024-08-30T02:41:43.544758Z"
    }
   },
   "outputs": [],
   "source": [
    "LotFrontage_drop_ids, LotFrontage_percentile_trimmed_train_data = trim_outliers_by_percentile(train_data, 'LotFrontage', 0.03, 0.99)\n",
    "\n",
    "drop_rows.update(LotFrontage_drop_ids)\n",
    "\n",
    "print(LotFrontage_drop_ids)"
   ]
  },
  {
   "cell_type": "code",
   "execution_count": null,
   "id": "6ac9d4bfbf138f82",
   "metadata": {
    "ExecuteTime": {
     "end_time": "2024-08-30T02:41:43.665502Z",
     "start_time": "2024-08-30T02:41:43.548206Z"
    }
   },
   "outputs": [],
   "source": [
    "plot_box_and_dist(LotFrontage_percentile_trimmed_train_data, 'LotFrontage')"
   ]
  },
  {
   "cell_type": "code",
   "execution_count": null,
   "id": "dacb7c09f1a2ebbf",
   "metadata": {
    "ExecuteTime": {
     "end_time": "2024-08-30T02:41:43.848002Z",
     "start_time": "2024-08-30T02:41:43.666026Z"
    }
   },
   "outputs": [],
   "source": [
    "plot_box_and_dist(train_data, 'LotArea')"
   ]
  },
  {
   "cell_type": "code",
   "execution_count": null,
   "id": "4f79b7e3913ce2d1",
   "metadata": {
    "ExecuteTime": {
     "end_time": "2024-08-30T02:41:43.858166Z",
     "start_time": "2024-08-30T02:41:43.848982Z"
    }
   },
   "outputs": [],
   "source": [
    "train_data.query('LotArea > 100000')"
   ]
  },
  {
   "cell_type": "code",
   "execution_count": null,
   "id": "9766f51772418e73",
   "metadata": {
    "ExecuteTime": {
     "end_time": "2024-08-30T02:41:43.949251Z",
     "start_time": "2024-08-30T02:41:43.858647Z"
    }
   },
   "outputs": [],
   "source": [
    "sns.scatterplot(data=train_data, x='LotArea', y='SalePrice')"
   ]
  },
  {
   "cell_type": "code",
   "execution_count": null,
   "id": "ccfd45724f98950b",
   "metadata": {
    "ExecuteTime": {
     "end_time": "2024-08-30T02:41:43.952825Z",
     "start_time": "2024-08-30T02:41:43.949826Z"
    }
   },
   "outputs": [],
   "source": [
    "LotArea_drop_ids, LotArea_trimmed_train_data = trim_outliers_by_percentile(train_data, 'LotArea', 0.01, 0.99)\n",
    "drop_rows.update(LotArea_drop_ids)"
   ]
  },
  {
   "cell_type": "code",
   "execution_count": null,
   "id": "5aaabca371e2c514",
   "metadata": {
    "ExecuteTime": {
     "end_time": "2024-08-30T02:41:44.081380Z",
     "start_time": "2024-08-30T02:41:43.953260Z"
    }
   },
   "outputs": [],
   "source": [
    "plot_box_and_dist(LotArea_trimmed_train_data, 'LotArea')"
   ]
  },
  {
   "cell_type": "code",
   "execution_count": null,
   "id": "d6999c49ff627e1c",
   "metadata": {
    "ExecuteTime": {
     "end_time": "2024-08-30T02:41:44.184291Z",
     "start_time": "2024-08-30T02:41:44.081993Z"
    }
   },
   "outputs": [],
   "source": [
    "plot_box_and_dist(train_data, 'OverallQual')"
   ]
  },
  {
   "cell_type": "code",
   "execution_count": null,
   "id": "33dc58436e4d03f1",
   "metadata": {
    "ExecuteTime": {
     "end_time": "2024-08-30T02:41:44.259444Z",
     "start_time": "2024-08-30T02:41:44.185158Z"
    }
   },
   "outputs": [],
   "source": [
    "sns.scatterplot(data=train_data, x='OverallQual', y='SalePrice')"
   ]
  },
  {
   "cell_type": "code",
   "execution_count": null,
   "id": "b25ffa48a7d2ee5a",
   "metadata": {
    "ExecuteTime": {
     "end_time": "2024-08-30T02:41:44.444816Z",
     "start_time": "2024-08-30T02:41:44.259974Z"
    }
   },
   "outputs": [],
   "source": [
    "plot_box_and_dist(train_data, 'OverallCond')"
   ]
  },
  {
   "cell_type": "code",
   "execution_count": null,
   "id": "4be43ae077346d62",
   "metadata": {
    "ExecuteTime": {
     "end_time": "2024-08-30T02:41:44.532698Z",
     "start_time": "2024-08-30T02:41:44.445477Z"
    }
   },
   "outputs": [],
   "source": [
    "sns.scatterplot(data=train_data, x='OverallCond', y='SalePrice')"
   ]
  },
  {
   "cell_type": "code",
   "execution_count": null,
   "id": "ae5e596dab8e2893",
   "metadata": {
    "ExecuteTime": {
     "end_time": "2024-08-30T02:41:44.541177Z",
     "start_time": "2024-08-30T02:41:44.533187Z"
    }
   },
   "outputs": [],
   "source": [
    "train_data.query('OverallCond == 6 and SalePrice > 500000')"
   ]
  },
  {
   "cell_type": "code",
   "execution_count": null,
   "id": "c8b0c1c0e34697a7",
   "metadata": {
    "ExecuteTime": {
     "end_time": "2024-08-30T02:41:44.553583Z",
     "start_time": "2024-08-30T02:41:44.541847Z"
    }
   },
   "outputs": [],
   "source": [
    "OverallCond_drop_ids = [ 379, 692 ]\n",
    "drop_rows.update(OverallCond_drop_ids)"
   ]
  },
  {
   "cell_type": "code",
   "execution_count": null,
   "id": "c9f3eb4dc2ae2631",
   "metadata": {
    "ExecuteTime": {
     "end_time": "2024-08-30T02:41:44.569509Z",
     "start_time": "2024-08-30T02:41:44.554Z"
    }
   },
   "outputs": [],
   "source": [
    "print(drop_rows)"
   ]
  },
  {
   "cell_type": "code",
   "execution_count": null,
   "id": "3c32906bdce27c70",
   "metadata": {
    "ExecuteTime": {
     "end_time": "2024-08-30T02:41:44.840622Z",
     "start_time": "2024-08-30T02:41:44.737162Z"
    }
   },
   "outputs": [],
   "source": [
    "plot_box_and_dist(train_data, 'YearBuilt')"
   ]
  },
  {
   "cell_type": "code",
   "execution_count": null,
   "id": "b242e0bb304359d",
   "metadata": {
    "ExecuteTime": {
     "end_time": "2024-08-30T02:41:45.020878Z",
     "start_time": "2024-08-30T02:41:44.925990Z"
    }
   },
   "outputs": [],
   "source": [
    "sns.scatterplot(data=train_data, x='YearBuilt', y='SalePrice')"
   ]
  },
  {
   "cell_type": "code",
   "execution_count": null,
   "id": "c81baf43891a59db",
   "metadata": {
    "ExecuteTime": {
     "end_time": "2024-08-30T02:41:45.055839Z",
     "start_time": "2024-08-30T02:41:45.047500Z"
    }
   },
   "outputs": [],
   "source": [
    "train_data.query('YearBuilt > 1985 and SalePrice > 700000')"
   ]
  },
  {
   "cell_type": "code",
   "execution_count": null,
   "id": "8247829fafa1f3a2",
   "metadata": {
    "ExecuteTime": {
     "end_time": "2024-08-30T02:41:45.317607Z",
     "start_time": "2024-08-30T02:41:45.316022Z"
    }
   },
   "outputs": [],
   "source": [
    "YearBuilt_drop_ids = [ 186, 692, 1183 ]\n",
    "drop_rows.update(YearBuilt_drop_ids)"
   ]
  },
  {
   "cell_type": "code",
   "execution_count": null,
   "id": "e91f1ee6dcb895bd",
   "metadata": {
    "ExecuteTime": {
     "end_time": "2024-08-30T02:41:45.542807Z",
     "start_time": "2024-08-30T02:41:45.437087Z"
    }
   },
   "outputs": [],
   "source": [
    "plot_box_and_dist(train_data, 'YearRemodAdd')"
   ]
  },
  {
   "cell_type": "code",
   "execution_count": null,
   "id": "ce67202edbc3d7fb",
   "metadata": {
    "ExecuteTime": {
     "end_time": "2024-08-30T02:41:45.626553Z",
     "start_time": "2024-08-30T02:41:45.543442Z"
    }
   },
   "outputs": [],
   "source": [
    "sns.scatterplot(data=train_data, x='YearRemodAdd', y='SalePrice')"
   ]
  },
  {
   "cell_type": "code",
   "execution_count": null,
   "id": "96e77c24e53acb0",
   "metadata": {
    "ExecuteTime": {
     "end_time": "2024-08-30T02:41:45.679487Z",
     "start_time": "2024-08-30T02:41:45.670671Z"
    }
   },
   "outputs": [],
   "source": [
    "train_data.query('YearRemodAdd > 1990 and YearRemodAdd < 2000 and SalePrice > 600000')"
   ]
  },
  {
   "cell_type": "code",
   "execution_count": null,
   "id": "2552d18455de750e",
   "metadata": {
    "ExecuteTime": {
     "end_time": "2024-08-30T02:41:45.707749Z",
     "start_time": "2024-08-30T02:41:45.706189Z"
    }
   },
   "outputs": [],
   "source": [
    "YearRemodAdd_drop_ids = [ 692, 1183, 1170 ]\n",
    "drop_rows.update(YearRemodAdd_drop_ids)"
   ]
  },
  {
   "cell_type": "code",
   "execution_count": null,
   "id": "f8ca19bf8619b222",
   "metadata": {
    "ExecuteTime": {
     "end_time": "2024-08-30T02:41:45.991335Z",
     "start_time": "2024-08-30T02:41:45.872343Z"
    }
   },
   "outputs": [],
   "source": [
    "plot_box_and_dist(train_data, 'MasVnrArea')"
   ]
  },
  {
   "cell_type": "code",
   "execution_count": null,
   "id": "b372a5deb294e8b",
   "metadata": {
    "ExecuteTime": {
     "end_time": "2024-08-30T02:41:46.078408Z",
     "start_time": "2024-08-30T02:41:45.992026Z"
    }
   },
   "outputs": [],
   "source": [
    "sns.scatterplot(data=train_data, x='MasVnrArea', y='SalePrice')"
   ]
  },
  {
   "cell_type": "code",
   "execution_count": null,
   "id": "a9145924ac2b290e",
   "metadata": {
    "ExecuteTime": {
     "end_time": "2024-08-30T02:41:46.081458Z",
     "start_time": "2024-08-30T02:41:46.078883Z"
    }
   },
   "outputs": [],
   "source": [
    "MasVnrArea_drop_ids, MasVnrArea_trimmed_train_data = trim_outliers_by_percentile(train_data, 'MasVnrArea', 0.01, 0.997)"
   ]
  },
  {
   "cell_type": "code",
   "execution_count": null,
   "id": "fcad03fd4f0d2d2f",
   "metadata": {
    "ExecuteTime": {
     "end_time": "2024-08-30T02:41:46.193265Z",
     "start_time": "2024-08-30T02:41:46.082128Z"
    }
   },
   "outputs": [],
   "source": [
    "plot_box_and_dist(MasVnrArea_trimmed_train_data, 'MasVnrArea')"
   ]
  },
  {
   "cell_type": "code",
   "execution_count": null,
   "id": "7387e23154b5541d",
   "metadata": {
    "ExecuteTime": {
     "end_time": "2024-08-30T02:41:46.270155Z",
     "start_time": "2024-08-30T02:41:46.193767Z"
    }
   },
   "outputs": [],
   "source": [
    "sns.scatterplot(data=MasVnrArea_trimmed_train_data, x='MasVnrArea', y='SalePrice')"
   ]
  },
  {
   "cell_type": "code",
   "execution_count": null,
   "id": "dc6a8727e1c43204",
   "metadata": {
    "ExecuteTime": {
     "end_time": "2024-08-30T02:41:46.272068Z",
     "start_time": "2024-08-30T02:41:46.270680Z"
    }
   },
   "outputs": [],
   "source": [
    "drop_rows.update(MasVnrArea_drop_ids)"
   ]
  },
  {
   "cell_type": "code",
   "execution_count": null,
   "id": "fb9384722a1021e",
   "metadata": {
    "ExecuteTime": {
     "end_time": "2024-08-30T02:41:46.288028Z",
     "start_time": "2024-08-30T02:41:46.272416Z"
    }
   },
   "outputs": [],
   "source": [
    "print(drop_rows)"
   ]
  },
  {
   "cell_type": "code",
   "execution_count": null,
   "id": "53aae563aab1f659",
   "metadata": {
    "ExecuteTime": {
     "end_time": "2024-08-30T02:41:46.403071Z",
     "start_time": "2024-08-30T02:41:46.288500Z"
    }
   },
   "outputs": [],
   "source": [
    "plot_box_and_dist(train_data, 'BsmtFinSF1')"
   ]
  },
  {
   "cell_type": "code",
   "execution_count": null,
   "id": "cd65ed85a7c5a6a4",
   "metadata": {
    "ExecuteTime": {
     "end_time": "2024-08-30T02:41:46.480734Z",
     "start_time": "2024-08-30T02:41:46.403973Z"
    }
   },
   "outputs": [],
   "source": [
    "sns.scatterplot(data=train_data, x='BsmtFinSF1', y='SalePrice')"
   ]
  },
  {
   "cell_type": "code",
   "execution_count": null,
   "id": "a039cf3d386af0e2",
   "metadata": {
    "ExecuteTime": {
     "end_time": "2024-08-30T02:41:46.489177Z",
     "start_time": "2024-08-30T02:41:46.481269Z"
    }
   },
   "outputs": [],
   "source": [
    "train_data.query('BsmtFinSF1 > 4000')"
   ]
  },
  {
   "cell_type": "code",
   "execution_count": null,
   "id": "f3d74574ddd86505",
   "metadata": {
    "ExecuteTime": {
     "end_time": "2024-08-30T02:41:46.498921Z",
     "start_time": "2024-08-30T02:41:46.489639Z"
    }
   },
   "outputs": [],
   "source": [
    "BsmtFinSF1_drop_ids = [ 1299 ]\n",
    "drop_rows.update(BsmtFinSF1_drop_ids)"
   ]
  },
  {
   "cell_type": "code",
   "execution_count": null,
   "id": "607efa5bd1417fb4",
   "metadata": {
    "ExecuteTime": {
     "end_time": "2024-08-30T02:41:46.611887Z",
     "start_time": "2024-08-30T02:41:46.499452Z"
    }
   },
   "outputs": [],
   "source": [
    "plot_box_and_dist(train_data, 'BsmtFinSF2')"
   ]
  },
  {
   "cell_type": "code",
   "execution_count": null,
   "id": "b4b7e4a9d8f0270e",
   "metadata": {
    "ExecuteTime": {
     "end_time": "2024-08-30T02:41:46.784945Z",
     "start_time": "2024-08-30T02:41:46.612448Z"
    }
   },
   "outputs": [],
   "source": [
    "sns.scatterplot(data=train_data, x='BsmtFinSF2', y='SalePrice')"
   ]
  },
  {
   "cell_type": "code",
   "execution_count": null,
   "id": "8bd73ffb06b29460",
   "metadata": {
    "ExecuteTime": {
     "end_time": "2024-08-30T02:41:46.793373Z",
     "start_time": "2024-08-30T02:41:46.785487Z"
    }
   },
   "outputs": [],
   "source": [
    "train_data.query('BsmtFinSF2 > 1200')"
   ]
  },
  {
   "cell_type": "code",
   "execution_count": null,
   "id": "a41116160cc80a19",
   "metadata": {
    "ExecuteTime": {
     "end_time": "2024-08-30T02:41:46.803013Z",
     "start_time": "2024-08-30T02:41:46.793896Z"
    }
   },
   "outputs": [],
   "source": [
    "BsmtFinSF2_drop_ids = [ 323 ]\n",
    "drop_rows.update(BsmtFinSF2_drop_ids)"
   ]
  },
  {
   "cell_type": "code",
   "execution_count": null,
   "id": "4ade73dbf664a245",
   "metadata": {
    "ExecuteTime": {
     "end_time": "2024-08-30T02:41:46.909874Z",
     "start_time": "2024-08-30T02:41:46.804137Z"
    }
   },
   "outputs": [],
   "source": [
    "plot_box_and_dist(train_data, 'BsmtUnfSF')"
   ]
  },
  {
   "cell_type": "code",
   "execution_count": null,
   "id": "aa577026685f3440",
   "metadata": {
    "ExecuteTime": {
     "end_time": "2024-08-30T02:41:46.986669Z",
     "start_time": "2024-08-30T02:41:46.910423Z"
    }
   },
   "outputs": [],
   "source": [
    "sns.scatterplot(data=train_data, x='BsmtUnfSF', y='SalePrice')"
   ]
  },
  {
   "cell_type": "code",
   "execution_count": null,
   "id": "534d430c0366465f",
   "metadata": {
    "ExecuteTime": {
     "end_time": "2024-08-30T02:41:46.995758Z",
     "start_time": "2024-08-30T02:41:46.987260Z"
    }
   },
   "outputs": [],
   "source": [
    "train_data.query('BsmtUnfSF < 500 and SalePrice > 600000')"
   ]
  },
  {
   "cell_type": "code",
   "execution_count": null,
   "id": "81e46d70d0a585cb",
   "metadata": {
    "ExecuteTime": {
     "end_time": "2024-08-30T02:41:47.005197Z",
     "start_time": "2024-08-30T02:41:46.996234Z"
    }
   },
   "outputs": [],
   "source": [
    "BsmtUnfSF_drop_ids = [ 692, 1183 ]\n",
    "drop_rows.update(BsmtUnfSF_drop_ids)"
   ]
  },
  {
   "cell_type": "code",
   "execution_count": null,
   "id": "cf123b647abaf002",
   "metadata": {
    "ExecuteTime": {
     "end_time": "2024-08-30T02:41:47.130600Z",
     "start_time": "2024-08-30T02:41:47.005666Z"
    }
   },
   "outputs": [],
   "source": [
    "plot_box_and_dist(train_data, 'TotalBsmtSF')"
   ]
  },
  {
   "cell_type": "code",
   "execution_count": null,
   "id": "9fb9dafc4a63148c",
   "metadata": {
    "ExecuteTime": {
     "end_time": "2024-08-30T02:41:47.212645Z",
     "start_time": "2024-08-30T02:41:47.131618Z"
    }
   },
   "outputs": [],
   "source": [
    "sns.scatterplot(data=train_data, x='TotalBsmtSF', y='SalePrice')"
   ]
  },
  {
   "cell_type": "code",
   "execution_count": null,
   "id": "44263c0551c3f633",
   "metadata": {
    "ExecuteTime": {
     "end_time": "2024-08-30T02:41:47.221945Z",
     "start_time": "2024-08-30T02:41:47.213211Z"
    }
   },
   "outputs": [],
   "source": [
    "train_data.query('TotalBsmtSF > 6000')"
   ]
  },
  {
   "cell_type": "code",
   "execution_count": null,
   "id": "713996ed684b0fd8",
   "metadata": {
    "ExecuteTime": {
     "end_time": "2024-08-30T02:41:47.231447Z",
     "start_time": "2024-08-30T02:41:47.222433Z"
    }
   },
   "outputs": [],
   "source": [
    "TotalBsmtSF_drop_ids = [ 1299 ]\n",
    "drop_rows.update(TotalBsmtSF_drop_ids)"
   ]
  },
  {
   "cell_type": "code",
   "execution_count": null,
   "id": "e297e0cd990da214",
   "metadata": {
    "ExecuteTime": {
     "end_time": "2024-08-30T02:41:47.344221Z",
     "start_time": "2024-08-30T02:41:47.232281Z"
    }
   },
   "outputs": [],
   "source": [
    "plot_box_and_dist(train_data, '1stFlrSF')"
   ]
  },
  {
   "cell_type": "code",
   "execution_count": null,
   "id": "d48dabc9b8195520",
   "metadata": {
    "ExecuteTime": {
     "end_time": "2024-08-30T02:41:47.417223Z",
     "start_time": "2024-08-30T02:41:47.344781Z"
    }
   },
   "outputs": [],
   "source": [
    "sns.scatterplot(data=train_data, x='1stFlrSF', y='SalePrice')"
   ]
  },
  {
   "cell_type": "code",
   "execution_count": null,
   "id": "b89c527832ef2dc2",
   "metadata": {
    "ExecuteTime": {
     "end_time": "2024-08-30T02:41:47.438968Z",
     "start_time": "2024-08-30T02:41:47.430696Z"
    }
   },
   "outputs": [],
   "source": [
    "train_data.query('`1stFlrSF` > 4000')"
   ]
  },
  {
   "cell_type": "code",
   "execution_count": null,
   "id": "e68742d488425c2e",
   "metadata": {
    "ExecuteTime": {
     "end_time": "2024-08-30T02:41:47.457195Z",
     "start_time": "2024-08-30T02:41:47.455732Z"
    }
   },
   "outputs": [],
   "source": [
    "FirstFlrSF_drop_ids = [ 1299 ]\n",
    "drop_rows.update(FirstFlrSF_drop_ids)"
   ]
  },
  {
   "cell_type": "code",
   "execution_count": null,
   "id": "1bf5efe0ea77a59a",
   "metadata": {
    "ExecuteTime": {
     "end_time": "2024-08-30T02:41:47.864885Z",
     "start_time": "2024-08-30T02:41:47.765810Z"
    }
   },
   "outputs": [],
   "source": [
    "plot_box_and_dist(train_data, '2ndFlrSF')"
   ]
  },
  {
   "cell_type": "code",
   "execution_count": null,
   "id": "cf97e88e8beed14c",
   "metadata": {
    "ExecuteTime": {
     "end_time": "2024-08-30T02:41:47.953109Z",
     "start_time": "2024-08-30T02:41:47.865595Z"
    }
   },
   "outputs": [],
   "source": [
    "sns.scatterplot(data=train_data, x='2ndFlrSF', y='SalePrice')"
   ]
  },
  {
   "cell_type": "code",
   "execution_count": null,
   "id": "7133764c8074270d",
   "metadata": {
    "ExecuteTime": {
     "end_time": "2024-08-30T02:41:48.092409Z",
     "start_time": "2024-08-30T02:41:47.966577Z"
    }
   },
   "outputs": [],
   "source": [
    "plot_box_and_dist(train_data, 'LowQualFinSF')"
   ]
  },
  {
   "cell_type": "code",
   "execution_count": null,
   "id": "95fedd29d9d8b74c",
   "metadata": {
    "ExecuteTime": {
     "end_time": "2024-08-30T02:41:48.171738Z",
     "start_time": "2024-08-30T02:41:48.093009Z"
    }
   },
   "outputs": [],
   "source": [
    "sns.scatterplot(data=train_data, x='LowQualFinSF', y='SalePrice')"
   ]
  },
  {
   "cell_type": "code",
   "execution_count": null,
   "id": "bb24ef21aa9154ed",
   "metadata": {
    "ExecuteTime": {
     "end_time": "2024-08-30T02:41:48.246862Z",
     "start_time": "2024-08-30T02:41:48.238763Z"
    }
   },
   "outputs": [],
   "source": [
    "train_data.query('LowQualFinSF > 550')"
   ]
  },
  {
   "cell_type": "code",
   "execution_count": null,
   "id": "38cbed32e2fb6deb",
   "metadata": {
    "ExecuteTime": {
     "end_time": "2024-08-30T02:41:48.266679Z",
     "start_time": "2024-08-30T02:41:48.265189Z"
    }
   },
   "outputs": [],
   "source": [
    "LowQualFinSF_drop_ids = [ 186 ]\n",
    "drop_rows.update(LowQualFinSF_drop_ids)"
   ]
  },
  {
   "cell_type": "code",
   "execution_count": null,
   "id": "796e1698db39fab",
   "metadata": {
    "ExecuteTime": {
     "end_time": "2024-08-30T02:41:48.510976Z",
     "start_time": "2024-08-30T02:41:48.402398Z"
    }
   },
   "outputs": [],
   "source": [
    "plot_box_and_dist(train_data, 'GrLivArea')"
   ]
  },
  {
   "cell_type": "code",
   "execution_count": null,
   "id": "d5062baeea9933a7",
   "metadata": {
    "ExecuteTime": {
     "end_time": "2024-08-30T02:41:48.584973Z",
     "start_time": "2024-08-30T02:41:48.511656Z"
    }
   },
   "outputs": [],
   "source": [
    "sns.scatterplot(data=train_data, x='GrLivArea', y='SalePrice')"
   ]
  },
  {
   "cell_type": "code",
   "execution_count": null,
   "id": "2e60bb8a9e05e87c",
   "metadata": {
    "ExecuteTime": {
     "end_time": "2024-08-30T02:41:48.593475Z",
     "start_time": "2024-08-30T02:41:48.585482Z"
    }
   },
   "outputs": [],
   "source": [
    "train_data.query('GrLivArea > 4000')"
   ]
  },
  {
   "cell_type": "code",
   "execution_count": null,
   "id": "a197bfd2d577e4d",
   "metadata": {
    "ExecuteTime": {
     "end_time": "2024-08-30T02:41:48.604479Z",
     "start_time": "2024-08-30T02:41:48.594102Z"
    }
   },
   "outputs": [],
   "source": [
    "GrLivArea_drop_ids = [ 524, 1299 ]\n",
    "drop_rows.update(GrLivArea_drop_ids)"
   ]
  },
  {
   "cell_type": "code",
   "execution_count": null,
   "id": "ba7763512eab5c34",
   "metadata": {
    "ExecuteTime": {
     "end_time": "2024-08-30T02:41:48.826466Z",
     "start_time": "2024-08-30T02:41:48.627816Z"
    }
   },
   "outputs": [],
   "source": [
    "plot_box_and_dist(train_data, 'BsmtFullBath')"
   ]
  },
  {
   "cell_type": "code",
   "execution_count": null,
   "id": "2bacf9907cf32d64",
   "metadata": {
    "ExecuteTime": {
     "end_time": "2024-08-30T02:41:48.911693Z",
     "start_time": "2024-08-30T02:41:48.827126Z"
    }
   },
   "outputs": [],
   "source": [
    "sns.scatterplot(data=train_data, x='BsmtFullBath', y='SalePrice')"
   ]
  },
  {
   "cell_type": "code",
   "execution_count": null,
   "id": "cf6324408af6c603",
   "metadata": {
    "ExecuteTime": {
     "end_time": "2024-08-30T02:41:49.026286Z",
     "start_time": "2024-08-30T02:41:48.912323Z"
    }
   },
   "outputs": [],
   "source": [
    "plot_box_and_dist(train_data, 'BsmtHalfBath')"
   ]
  },
  {
   "cell_type": "code",
   "execution_count": null,
   "id": "9119b96dd423ede7",
   "metadata": {
    "ExecuteTime": {
     "end_time": "2024-08-30T02:41:49.123942Z",
     "start_time": "2024-08-30T02:41:49.026801Z"
    }
   },
   "outputs": [],
   "source": [
    "sns.scatterplot(data=train_data, x='BsmtHalfBath', y='SalePrice')    "
   ]
  },
  {
   "cell_type": "code",
   "execution_count": null,
   "id": "769e70faa13e9c3d",
   "metadata": {
    "ExecuteTime": {
     "end_time": "2024-08-30T02:41:49.133063Z",
     "start_time": "2024-08-30T02:41:49.124664Z"
    }
   },
   "outputs": [],
   "source": [
    "train_data.query('BsmtHalfBath == 1 and SalePrice > 600000')"
   ]
  },
  {
   "cell_type": "code",
   "execution_count": null,
   "id": "37ca6e5ece752e0",
   "metadata": {
    "ExecuteTime": {
     "end_time": "2024-08-30T02:41:49.143784Z",
     "start_time": "2024-08-30T02:41:49.133517Z"
    }
   },
   "outputs": [],
   "source": [
    "BsmtHalfBath_drop_ids = [ 692 ]\n",
    "drop_rows.update(BsmtHalfBath_drop_ids)"
   ]
  },
  {
   "cell_type": "code",
   "execution_count": null,
   "id": "6b4e79599f033087",
   "metadata": {
    "ExecuteTime": {
     "end_time": "2024-08-30T02:41:49.420949Z",
     "start_time": "2024-08-30T02:41:49.314167Z"
    }
   },
   "outputs": [],
   "source": [
    "plot_box_and_dist(train_data, 'FullBath')"
   ]
  },
  {
   "cell_type": "code",
   "execution_count": null,
   "id": "7118ff9b1e9ef0e1",
   "metadata": {
    "ExecuteTime": {
     "end_time": "2024-08-30T02:41:49.500488Z",
     "start_time": "2024-08-30T02:41:49.421579Z"
    }
   },
   "outputs": [],
   "source": [
    "sns.scatterplot(data=train_data, x='FullBath', y='SalePrice')"
   ]
  },
  {
   "cell_type": "code",
   "execution_count": null,
   "id": "7f182cc4dc1737b3",
   "metadata": {
    "ExecuteTime": {
     "end_time": "2024-08-30T02:41:49.607955Z",
     "start_time": "2024-08-30T02:41:49.501118Z"
    }
   },
   "outputs": [],
   "source": [
    "plot_box_and_dist(train_data, 'HalfBath')"
   ]
  },
  {
   "cell_type": "code",
   "execution_count": null,
   "id": "774a09971d3617c0",
   "metadata": {
    "ExecuteTime": {
     "end_time": "2024-08-30T02:41:49.695602Z",
     "start_time": "2024-08-30T02:41:49.608645Z"
    }
   },
   "outputs": [],
   "source": [
    "sns.scatterplot(data=train_data, x='HalfBath', y='SalePrice')"
   ]
  },
  {
   "cell_type": "code",
   "execution_count": null,
   "id": "927bbaf242662728",
   "metadata": {
    "ExecuteTime": {
     "end_time": "2024-08-30T02:41:49.814523Z",
     "start_time": "2024-08-30T02:41:49.696236Z"
    }
   },
   "outputs": [],
   "source": [
    "plot_box_and_dist(train_data, 'BedroomAbvGr')"
   ]
  },
  {
   "cell_type": "code",
   "execution_count": null,
   "id": "ebbb072e7e48e046",
   "metadata": {
    "ExecuteTime": {
     "end_time": "2024-08-30T02:41:49.901350Z",
     "start_time": "2024-08-30T02:41:49.815224Z"
    }
   },
   "outputs": [],
   "source": [
    "sns.scatterplot(data=train_data, x='BedroomAbvGr', y='SalePrice')"
   ]
  },
  {
   "cell_type": "code",
   "execution_count": null,
   "id": "32235e4ed3a08c6",
   "metadata": {
    "ExecuteTime": {
     "end_time": "2024-08-30T02:41:50.007868Z",
     "start_time": "2024-08-30T02:41:49.901991Z"
    }
   },
   "outputs": [],
   "source": [
    "plot_box_and_dist(train_data, 'KitchenAbvGr')"
   ]
  },
  {
   "cell_type": "code",
   "execution_count": null,
   "id": "d587c4f5fd376b2c",
   "metadata": {
    "ExecuteTime": {
     "end_time": "2024-08-30T02:41:50.090832Z",
     "start_time": "2024-08-30T02:41:50.008497Z"
    }
   },
   "outputs": [],
   "source": [
    "sns.scatterplot(data=train_data, x='KitchenAbvGr', y='SalePrice')"
   ]
  },
  {
   "cell_type": "code",
   "execution_count": null,
   "id": "66fd7483aa975428",
   "metadata": {
    "ExecuteTime": {
     "end_time": "2024-08-30T02:41:50.307779Z",
     "start_time": "2024-08-30T02:41:50.091465Z"
    }
   },
   "outputs": [],
   "source": [
    "plot_box_and_dist(train_data, 'TotRmsAbvGrd')"
   ]
  },
  {
   "cell_type": "code",
   "execution_count": null,
   "id": "6850538c52a53cdf",
   "metadata": {
    "ExecuteTime": {
     "end_time": "2024-08-30T02:41:50.390598Z",
     "start_time": "2024-08-30T02:41:50.308418Z"
    }
   },
   "outputs": [],
   "source": [
    "sns.scatterplot(data=train_data, x='TotRmsAbvGrd', y='SalePrice')"
   ]
  },
  {
   "cell_type": "code",
   "execution_count": null,
   "id": "944808c8911e4d20",
   "metadata": {
    "ExecuteTime": {
     "end_time": "2024-08-30T02:41:50.504287Z",
     "start_time": "2024-08-30T02:41:50.391338Z"
    }
   },
   "outputs": [],
   "source": [
    "plot_box_and_dist(train_data, 'Fireplaces')"
   ]
  },
  {
   "cell_type": "code",
   "execution_count": null,
   "id": "1145b0100c725079",
   "metadata": {
    "ExecuteTime": {
     "end_time": "2024-08-30T02:41:50.585348Z",
     "start_time": "2024-08-30T02:41:50.504793Z"
    }
   },
   "outputs": [],
   "source": [
    "sns.scatterplot(data=train_data, x='Fireplaces', y='SalePrice')"
   ]
  },
  {
   "cell_type": "code",
   "execution_count": null,
   "id": "d03501f0c3193e8d",
   "metadata": {
    "ExecuteTime": {
     "end_time": "2024-08-30T02:41:50.685554Z",
     "start_time": "2024-08-30T02:41:50.585872Z"
    }
   },
   "outputs": [],
   "source": [
    "plot_box_and_dist(train_data, 'GarageYrBlt')"
   ]
  },
  {
   "cell_type": "code",
   "execution_count": null,
   "id": "cf2c73e5b6af5994",
   "metadata": {
    "ExecuteTime": {
     "end_time": "2024-08-30T02:41:50.766273Z",
     "start_time": "2024-08-30T02:41:50.686079Z"
    }
   },
   "outputs": [],
   "source": [
    "sns.scatterplot(data=train_data, x='GarageYrBlt', y='SalePrice')"
   ]
  },
  {
   "cell_type": "code",
   "execution_count": null,
   "id": "6b134bf3bf388d7e",
   "metadata": {
    "ExecuteTime": {
     "end_time": "2024-08-30T02:41:50.775010Z",
     "start_time": "2024-08-30T02:41:50.766895Z"
    }
   },
   "outputs": [],
   "source": [
    "train_data.query('GarageYrBlt > 1980 and SalePrice > 700000')"
   ]
  },
  {
   "cell_type": "code",
   "execution_count": null,
   "id": "d441e38fbb5fc1ad",
   "metadata": {
    "ExecuteTime": {
     "end_time": "2024-08-30T02:41:50.785319Z",
     "start_time": "2024-08-30T02:41:50.775852Z"
    }
   },
   "outputs": [],
   "source": [
    "GarageYrBlt_drop_ids = [ 692, 1183 ]\n",
    "drop_rows.update(GarageYrBlt_drop_ids)"
   ]
  },
  {
   "cell_type": "code",
   "execution_count": null,
   "id": "3bdb2a09e5a790d1",
   "metadata": {
    "ExecuteTime": {
     "end_time": "2024-08-30T02:41:50.915537Z",
     "start_time": "2024-08-30T02:41:50.785786Z"
    }
   },
   "outputs": [],
   "source": [
    "plot_box_and_dist(train_data, 'GarageCars')"
   ]
  },
  {
   "cell_type": "code",
   "execution_count": null,
   "id": "a45ce411b40df4fc",
   "metadata": {
    "ExecuteTime": {
     "end_time": "2024-08-30T02:41:51.002106Z",
     "start_time": "2024-08-30T02:41:50.916054Z"
    }
   },
   "outputs": [],
   "source": [
    "sns.scatterplot(data=train_data, x='GarageCars', y='SalePrice')"
   ]
  },
  {
   "cell_type": "code",
   "execution_count": null,
   "id": "2f5402a3def0ee77",
   "metadata": {
    "ExecuteTime": {
     "end_time": "2024-08-30T02:41:51.125304Z",
     "start_time": "2024-08-30T02:41:51.002616Z"
    }
   },
   "outputs": [],
   "source": [
    "plot_box_and_dist(train_data, 'GarageArea')"
   ]
  },
  {
   "cell_type": "code",
   "execution_count": null,
   "id": "91d937f5c2a2a34",
   "metadata": {
    "ExecuteTime": {
     "end_time": "2024-08-30T02:41:51.213173Z",
     "start_time": "2024-08-30T02:41:51.125956Z"
    }
   },
   "outputs": [],
   "source": [
    "sns.scatterplot(data=train_data, x='GarageArea', y='SalePrice')"
   ]
  },
  {
   "cell_type": "code",
   "execution_count": null,
   "id": "d90ec6eb0c4c3ad8",
   "metadata": {
    "ExecuteTime": {
     "end_time": "2024-08-30T02:41:51.216426Z",
     "start_time": "2024-08-30T02:41:51.213697Z"
    }
   },
   "outputs": [],
   "source": [
    "GarageYrBlt_drop_ids, GarageArea_trimmed_train_data = trim_outliers_by_percentile(train_data, 'GarageArea', 0.025, 0.9)"
   ]
  },
  {
   "cell_type": "code",
   "execution_count": null,
   "id": "91b31875465060a9",
   "metadata": {
    "ExecuteTime": {
     "end_time": "2024-08-30T02:41:51.339417Z",
     "start_time": "2024-08-30T02:41:51.216882Z"
    }
   },
   "outputs": [],
   "source": [
    "plot_box_and_dist(GarageArea_trimmed_train_data, 'GarageArea')"
   ]
  },
  {
   "cell_type": "code",
   "execution_count": null,
   "id": "685f574a",
   "metadata": {},
   "outputs": [],
   "source": [
    "sns.scatterplot(data=GarageArea_trimmed_train_data, x='GarageArea', y='SalePrice')"
   ]
  },
  {
   "cell_type": "code",
   "execution_count": null,
   "id": "96a71149251727da",
   "metadata": {
    "ExecuteTime": {
     "end_time": "2024-08-30T02:41:51.348869Z",
     "start_time": "2024-08-30T02:41:51.339919Z"
    }
   },
   "outputs": [],
   "source": [
    "train_data.query('GarageArea < 100')"
   ]
  },
  {
   "cell_type": "code",
   "execution_count": null,
   "id": "75860853a44b94ec",
   "metadata": {
    "ExecuteTime": {
     "end_time": "2024-08-30T02:41:51.461179Z",
     "start_time": "2024-08-30T02:41:51.349775Z"
    }
   },
   "outputs": [],
   "source": [
    "plot_box_and_dist(train_data, 'WoodDeckSF')"
   ]
  },
  {
   "cell_type": "code",
   "execution_count": null,
   "id": "4a634eb61b5148e",
   "metadata": {
    "ExecuteTime": {
     "end_time": "2024-08-30T02:41:51.535552Z",
     "start_time": "2024-08-30T02:41:51.461685Z"
    }
   },
   "outputs": [],
   "source": [
    "sns.scatterplot(data=train_data, x='WoodDeckSF', y='SalePrice')"
   ]
  },
  {
   "cell_type": "code",
   "execution_count": null,
   "id": "a7994c55980c0ac2",
   "metadata": {
    "ExecuteTime": {
     "end_time": "2024-08-30T02:41:51.643723Z",
     "start_time": "2024-08-30T02:41:51.536047Z"
    }
   },
   "outputs": [],
   "source": [
    "plot_box_and_dist(train_data, 'OpenPorchSF')"
   ]
  },
  {
   "cell_type": "code",
   "execution_count": null,
   "id": "342da16831a2679c",
   "metadata": {
    "ExecuteTime": {
     "end_time": "2024-08-30T02:41:51.720818Z",
     "start_time": "2024-08-30T02:41:51.644262Z"
    }
   },
   "outputs": [],
   "source": [
    "sns.scatterplot(data=train_data, x='OpenPorchSF', y='SalePrice')"
   ]
  },
  {
   "cell_type": "code",
   "execution_count": null,
   "id": "cb3f7590b8a5ca4",
   "metadata": {
    "ExecuteTime": {
     "end_time": "2024-08-30T02:41:51.924807Z",
     "start_time": "2024-08-30T02:41:51.721563Z"
    }
   },
   "outputs": [],
   "source": [
    "plot_box_and_dist(train_data, 'EnclosedPorch')"
   ]
  },
  {
   "cell_type": "code",
   "execution_count": null,
   "id": "5ea751892ff4dcdf",
   "metadata": {
    "ExecuteTime": {
     "end_time": "2024-08-30T02:41:52.002790Z",
     "start_time": "2024-08-30T02:41:51.925324Z"
    }
   },
   "outputs": [],
   "source": [
    "sns.scatterplot(data=train_data, x='EnclosedPorch', y='SalePrice')"
   ]
  },
  {
   "cell_type": "code",
   "execution_count": null,
   "id": "5f58572addb1e753",
   "metadata": {
    "ExecuteTime": {
     "end_time": "2024-08-30T02:41:52.011197Z",
     "start_time": "2024-08-30T02:41:52.003485Z"
    }
   },
   "outputs": [],
   "source": [
    "train_data.query('EnclosedPorch > 500')"
   ]
  },
  {
   "cell_type": "code",
   "execution_count": null,
   "id": "3214dec8a1ea8b21",
   "metadata": {
    "ExecuteTime": {
     "end_time": "2024-08-30T02:41:52.025049Z",
     "start_time": "2024-08-30T02:41:52.011646Z"
    }
   },
   "outputs": [],
   "source": [
    "EnclosedPorch_drop_ids = [ 198 ]\n",
    "drop_rows.update(EnclosedPorch_drop_ids)"
   ]
  },
  {
   "cell_type": "code",
   "execution_count": null,
   "id": "57084c64644d8368",
   "metadata": {
    "ExecuteTime": {
     "end_time": "2024-08-30T02:41:52.242988Z",
     "start_time": "2024-08-30T02:41:52.143234Z"
    }
   },
   "outputs": [],
   "source": [
    "plot_box_and_dist(train_data, '3SsnPorch')"
   ]
  },
  {
   "cell_type": "code",
   "execution_count": null,
   "id": "7f9eb22b43142423",
   "metadata": {
    "ExecuteTime": {
     "end_time": "2024-08-30T02:41:52.320326Z",
     "start_time": "2024-08-30T02:41:52.243661Z"
    }
   },
   "outputs": [],
   "source": [
    "sns.scatterplot(data=train_data, x='3SsnPorch', y='SalePrice')"
   ]
  },
  {
   "cell_type": "code",
   "execution_count": null,
   "id": "fc7899370bfd61f8",
   "metadata": {
    "ExecuteTime": {
     "end_time": "2024-08-30T02:41:52.425835Z",
     "start_time": "2024-08-30T02:41:52.324896Z"
    }
   },
   "outputs": [],
   "source": [
    "plot_box_and_dist(train_data, 'ScreenPorch')"
   ]
  },
  {
   "cell_type": "code",
   "execution_count": null,
   "id": "b1a16b4f4bce90b2",
   "metadata": {
    "ExecuteTime": {
     "end_time": "2024-08-30T02:41:52.501307Z",
     "start_time": "2024-08-30T02:41:52.426460Z"
    }
   },
   "outputs": [],
   "source": [
    "sns.scatterplot(data=train_data, x='ScreenPorch', y='SalePrice')"
   ]
  },
  {
   "cell_type": "code",
   "execution_count": null,
   "id": "c9e75fea1b032335",
   "metadata": {
    "ExecuteTime": {
     "end_time": "2024-08-30T02:41:52.684946Z",
     "start_time": "2024-08-30T02:41:52.580624Z"
    }
   },
   "outputs": [],
   "source": [
    "plot_box_and_dist(train_data, 'PoolArea')"
   ]
  },
  {
   "cell_type": "code",
   "execution_count": null,
   "id": "e5a5951cfad30960",
   "metadata": {
    "ExecuteTime": {
     "end_time": "2024-08-30T02:41:52.766213Z",
     "start_time": "2024-08-30T02:41:52.685575Z"
    }
   },
   "outputs": [],
   "source": [
    "sns.scatterplot(data=train_data, x='PoolArea', y='SalePrice')"
   ]
  },
  {
   "cell_type": "code",
   "execution_count": null,
   "id": "85fabc60a5a94ced",
   "metadata": {
    "ExecuteTime": {
     "end_time": "2024-08-30T02:41:52.791421Z",
     "start_time": "2024-08-30T02:41:52.783186Z"
    }
   },
   "outputs": [],
   "source": [
    "train_data.query('PoolArea > 500 and SalePrice > 700000')"
   ]
  },
  {
   "cell_type": "code",
   "execution_count": null,
   "id": "d8fe01e075ae9c10",
   "metadata": {
    "ExecuteTime": {
     "end_time": "2024-08-30T02:41:52.829025Z",
     "start_time": "2024-08-30T02:41:52.827434Z"
    }
   },
   "outputs": [],
   "source": [
    "PoolArea_drop_ids = [ 1183 ]\n",
    "drop_rows.update(PoolArea_drop_ids)"
   ]
  },
  {
   "cell_type": "code",
   "execution_count": null,
   "id": "1f01b56f3093f7d6",
   "metadata": {
    "ExecuteTime": {
     "end_time": "2024-08-30T02:41:53.061496Z",
     "start_time": "2024-08-30T02:41:52.953639Z"
    }
   },
   "outputs": [],
   "source": [
    "plot_box_and_dist(train_data, 'MiscVal')"
   ]
  },
  {
   "cell_type": "code",
   "execution_count": null,
   "id": "ef77ecd1a571fcf5",
   "metadata": {
    "ExecuteTime": {
     "end_time": "2024-08-30T02:41:53.147239Z",
     "start_time": "2024-08-30T02:41:53.062134Z"
    }
   },
   "outputs": [],
   "source": [
    "sns.scatterplot(data=train_data, x='MiscVal', y='SalePrice')"
   ]
  },
  {
   "cell_type": "code",
   "execution_count": null,
   "id": "bd6d631a3889d6f3",
   "metadata": {
    "ExecuteTime": {
     "end_time": "2024-08-30T02:41:53.245105Z",
     "start_time": "2024-08-30T02:41:53.147906Z"
    }
   },
   "outputs": [],
   "source": [
    "plot_box_and_dist(train_data, 'MoSold')"
   ]
  },
  {
   "cell_type": "code",
   "execution_count": null,
   "id": "f689a60472a7c559",
   "metadata": {
    "ExecuteTime": {
     "end_time": "2024-08-30T02:41:53.324091Z",
     "start_time": "2024-08-30T02:41:53.245661Z"
    }
   },
   "outputs": [],
   "source": [
    "sns.scatterplot(data=train_data, x='MoSold', y='SalePrice')"
   ]
  },
  {
   "cell_type": "code",
   "execution_count": null,
   "id": "504b922d1fab03c7",
   "metadata": {
    "ExecuteTime": {
     "end_time": "2024-08-30T02:41:53.435677Z",
     "start_time": "2024-08-30T02:41:53.324800Z"
    }
   },
   "outputs": [],
   "source": [
    "plot_box_and_dist(train_data, 'YrSold')"
   ]
  },
  {
   "cell_type": "code",
   "execution_count": null,
   "id": "bc603ca941a4fd83",
   "metadata": {
    "ExecuteTime": {
     "end_time": "2024-08-30T02:41:53.538732Z",
     "start_time": "2024-08-30T02:41:53.444902Z"
    }
   },
   "outputs": [],
   "source": [
    "sns.scatterplot(data=train_data, x='YrSold', y='SalePrice')"
   ]
  },
  {
   "cell_type": "code",
   "execution_count": null,
   "id": "27eda63dc1eb912b",
   "metadata": {
    "ExecuteTime": {
     "end_time": "2024-08-30T02:41:53.547201Z",
     "start_time": "2024-08-30T02:41:53.539380Z"
    }
   },
   "outputs": [],
   "source": [
    "train_data.query('YrSold == 2007 and SalePrice > 700000')"
   ]
  },
  {
   "cell_type": "code",
   "execution_count": null,
   "id": "df6bcf77f5e6fd52",
   "metadata": {
    "ExecuteTime": {
     "end_time": "2024-08-30T02:41:53.680854Z",
     "start_time": "2024-08-30T02:41:53.679263Z"
    }
   },
   "outputs": [],
   "source": [
    "YrSold_drop_ids = [ 692, 1183 ]\n",
    "drop_rows.update(YrSold_drop_ids)"
   ]
  },
  {
   "cell_type": "code",
   "execution_count": null,
   "id": "ee92a5a54a52d88d",
   "metadata": {
    "ExecuteTime": {
     "end_time": "2024-08-30T02:41:53.749888Z",
     "start_time": "2024-08-30T02:41:53.748342Z"
    }
   },
   "outputs": [],
   "source": [
    "print(len(drop_rows))"
   ]
  },
  {
   "cell_type": "code",
   "execution_count": null,
   "id": "51145a931cd81ce",
   "metadata": {
    "ExecuteTime": {
     "end_time": "2024-08-30T02:41:53.808888Z",
     "start_time": "2024-08-30T02:41:53.807358Z"
    }
   },
   "outputs": [],
   "source": [
    "print(drop_features)"
   ]
  },
  {
   "cell_type": "code",
   "execution_count": null,
   "id": "f000451ca3bfdbc0",
   "metadata": {
    "ExecuteTime": {
     "end_time": "2024-08-30T02:41:53.949052Z",
     "start_time": "2024-08-30T02:41:53.942087Z"
    }
   },
   "outputs": [],
   "source": [
    "train_data.loc[train_data.duplicated()]"
   ]
  },
  {
   "cell_type": "code",
   "execution_count": null,
   "id": "63e39eb8",
   "metadata": {},
   "outputs": [],
   "source": [
    "test_data.columns.to_list()"
   ]
  },
  {
   "cell_type": "markdown",
   "id": "272a6126",
   "metadata": {},
   "source": [
    "# Feature Engineering"
   ]
  },
  {
   "cell_type": "code",
   "execution_count": null,
   "id": "e0bae737",
   "metadata": {},
   "outputs": [],
   "source": [
    "train_data['houseage'] = train_data['YrSold'] - train_data['YearBuilt']\n",
    "test_data['houseage'] = test_data['YrSold'] - test_data['YearBuilt']\n",
    "\n",
    "train_data['houseremodelage'] = train_data['YrSold'] - train_data['YearRemodAdd']\n",
    "test_data['houseremodelage'] = test_data['YrSold'] - test_data['YearRemodAdd']\n",
    "\n",
    "train_data['totalsf'] = train_data['1stFlrSF'] + train_data['2ndFlrSF'] + train_data['BsmtFinSF1'] + train_data['BsmtFinSF2']\n",
    "test_data['totalsf'] = test_data['1stFlrSF'] + test_data['2ndFlrSF'] + test_data['BsmtFinSF1'] + test_data['BsmtFinSF2']\n",
    "\n",
    "train_data['totalarea'] = train_data['GrLivArea'] + train_data['TotalBsmtSF']\n",
    "test_data['totalarea'] = test_data['GrLivArea'] + test_data['TotalBsmtSF']\n",
    "\n",
    "train_data['totalbaths'] = train_data['BsmtFullBath'] + train_data['FullBath'] + 0.5 * (train_data['BsmtHalfBath'] + train_data['HalfBath']) \n",
    "test_data['totalbaths'] = test_data['BsmtFullBath'] + test_data['FullBath'] + 0.5 * (test_data['BsmtHalfBath'] + test_data['HalfBath'])\n",
    "\n",
    "train_data['totalporchsf'] = train_data['OpenPorchSF'] + train_data['3SsnPorch'] + train_data['EnclosedPorch'] + train_data['ScreenPorch'] + train_data['WoodDeckSF']\n",
    "test_data['totalporchsf'] = test_data['OpenPorchSF'] + test_data['3SsnPorch'] + test_data['EnclosedPorch'] + test_data['ScreenPorch'] + test_data['WoodDeckSF']"
   ]
  },
  {
   "cell_type": "code",
   "execution_count": null,
   "id": "d11eca6d",
   "metadata": {},
   "outputs": [],
   "source": [
    "drop_features.extend(['YrSold', 'YearBuilt', 'YearRemodAdd', '1stFlrSF', '2ndFlrSF', 'BsmtFinSF1', 'BsmtFinSF2', 'GrLivArea', 'TotalBsmtSF','BsmtFullBath', 'FullBath', 'BsmtHalfBath', 'HalfBath', 'OpenPorchSF', '3SsnPorch', 'EnclosedPorch', 'ScreenPorch','WoodDeckSF'])"
   ]
  },
  {
   "cell_type": "code",
   "execution_count": null,
   "id": "2ccc773b",
   "metadata": {},
   "outputs": [],
   "source": [
    "for column in train_data.columns:\n",
    "    if column not in drop_features:\n",
    "        print(column)"
   ]
  },
  {
   "cell_type": "code",
   "execution_count": null,
   "id": "60057c1c",
   "metadata": {},
   "outputs": [],
   "source": [
    "print(drop_features)"
   ]
  },
  {
   "cell_type": "code",
   "execution_count": null,
   "id": "97f0d396",
   "metadata": {},
   "outputs": [],
   "source": [
    "train_data = train_data.drop(columns=list(drop_features))\n",
    "train_data = train_data.drop('Id', axis=1)\n",
    "test_data = test_data.drop(columns=list(drop_features))"
   ]
  },
  {
   "cell_type": "code",
   "execution_count": null,
   "id": "40722d87",
   "metadata": {},
   "outputs": [],
   "source": [
    "correlation_matrix = train_data.corr(numeric_only=True)\n",
    "plt.figure(figsize=(20, 20))\n",
    "sns.heatmap(correlation_matrix, annot=True, fmt='.2f', cmap='coolwarm', square=True)"
   ]
  },
  {
   "cell_type": "code",
   "execution_count": null,
   "id": "c00a8eeb",
   "metadata": {},
   "outputs": [],
   "source": [
    "categorical_but_numerical_values = [\n",
    "    'OverallQual',\n",
    "    'BedroomAbvGr', \n",
    "    'KitchenAbvGr', \n",
    "    'TotRmsAbvGrd', \n",
    "    'Fireplaces', \n",
    "    'GarageCars', \n",
    "    'MoSold',\n",
    "]\n",
    "\n",
    "numerical_features = train_data.select_dtypes(include=['int64', 'float64']).columns\n",
    "numerical_features = numerical_features.drop('SalePrice')\n",
    "\n",
    "\n",
    "categorical_features_onehot = [\n",
    "    'MSSubClass', \n",
    "    'MSZoning', \n",
    "    'Street', \n",
    "    'LotConfig',\n",
    "    'LotShape', \n",
    "    'LandContour', \n",
    "    'Utilities', \n",
    "    'LotConfig', \n",
    "    'LandSlope', \n",
    "    'Neighborhood',\n",
    "    'Condition1', \n",
    "    'Condition2', \n",
    "    'BldgType', \n",
    "    'HouseStyle', \n",
    "    'RoofStyle', \n",
    "    'Exterior1st', \n",
    "    'Exterior2nd',\n",
    "    'MasVnrType',\n",
    "    'Foundation',  \n",
    "    'Electrical',  \n",
    "    'SaleType', \n",
    "    'SaleCondition', \n",
    "    'Heating', \n",
    "    'GarageType', \n",
    "    'RoofMatl',\n",
    "    'ExterQual', \n",
    "    'ExterCond', \n",
    "    'BsmtQual', \n",
    "    'BsmtCond', \n",
    "    'BsmtExposure', \n",
    "    'BsmtFinType1',\n",
    "    'HeatingQC',\n",
    "    'CentralAir', \n",
    "    'KitchenQual', \n",
    "    'Functional', \n",
    "    'GarageFinish', \n",
    "    'PavedDrive'\n",
    "]\n",
    "\n",
    "categorical_features_ordinal = [\n",
    "    'LotShape', \n",
    "    'LandContour',\n",
    "    'Utilities',\n",
    "    'LandSlope',  \n",
    "    'BsmtQual',  \n",
    "    'BsmtFinType1',  \n",
    "    'CentralAir',  \n",
    "    'Functional', \n",
    "    'FireplaceQu', \n",
    "    'GarageFinish', \n",
    "    'GarageQual', \n",
    "    'PavedDrive', \n",
    "    'ExterCond', \n",
    "    'KitchenQual', \n",
    "    'BsmtExposure', \n",
    "    'HeatingQC','ExterQual', \n",
    "    'BsmtCond',\n",
    "    'OverallQual',\n",
    "    'OverallCond',\n",
    "    'MoSold',\n",
    "    'GarageQual'\n",
    "]"
   ]
  },
  {
   "cell_type": "markdown",
   "id": "5428a962",
   "metadata": {},
   "source": [
    "## Build Data Preprocessing pipelines"
   ]
  },
  {
   "cell_type": "code",
   "execution_count": null,
   "id": "fdb04081420cc2f5",
   "metadata": {
    "jupyter": {
     "is_executing": true
    }
   },
   "outputs": [],
   "source": [
    "numerical_pipeline = Pipeline([\n",
    "    ('imputer', SimpleImputer(strategy='mean')),\n",
    "    ('scaler', StandardScaler())\n",
    "    # ('normalizer', Normalizer())\n",
    "])\n",
    "\n",
    "categorical_pipeline_onehot = Pipeline([\n",
    "    ('imputer', SimpleImputer(strategy='most_frequent')),\n",
    "    ('onehot', OneHotEncoder(handle_unknown='ignore', sparse_output=False))\n",
    "])\n",
    "\n",
    "categorical_pipeline_ordinal = Pipeline([\n",
    "    ('imputer', SimpleImputer(strategy='most_frequent')),\n",
    "    ('ordinal', OrdinalEncoder(handle_unknown='use_encoded_value', unknown_value=-1))\n",
    "])"
   ]
  },
  {
   "cell_type": "code",
   "execution_count": null,
   "id": "2c4367debc8c5ba5",
   "metadata": {
    "ExecuteTime": {
     "end_time": "2024-08-30T02:41:13.835306Z",
     "start_time": "2024-08-30T02:41:13.824839Z"
    }
   },
   "outputs": [],
   "source": [
    "preprocessor = ColumnTransformer(\n",
    "    [\n",
    "        ('num_processed', numerical_pipeline, numerical_features),\n",
    "        ('ohe_processed', categorical_pipeline_onehot, categorical_features_onehot),\n",
    "        ('ord_processed', categorical_pipeline_ordinal, categorical_features_ordinal)\n",
    "    ], \n",
    "    remainder='passthrough',\n",
    "    n_jobs=-1\n",
    ")\n",
    "\n",
    "y = np.log1p(train_data['SalePrice'])\n",
    "y = y.drop(index=list(drop_rows))\n",
    "X = train_data.drop('SalePrice', axis=1)\n",
    "X = X.drop(index=list(drop_rows))\n",
    "\n",
    "pipeline = Pipeline([\n",
    "    ('preprocessor', preprocessor)\n",
    "])"
   ]
  },
  {
   "cell_type": "code",
   "execution_count": null,
   "id": "e0dd9f7b",
   "metadata": {},
   "outputs": [],
   "source": [
    "X_train_preprocessed = pipeline.fit_transform(X)"
   ]
  },
  {
   "cell_type": "code",
   "execution_count": null,
   "id": "48bee444",
   "metadata": {},
   "outputs": [],
   "source": [
    "X_train, X_test, y_train, y_test = train_test_split(X_train_preprocessed, y, test_size=0.2, random_state=25)"
   ]
  },
  {
   "cell_type": "code",
   "execution_count": null,
   "id": "6dd5de1b",
   "metadata": {},
   "outputs": [],
   "source": [
    "train_data.describe()"
   ]
  },
  {
   "cell_type": "markdown",
   "id": "a7e06836",
   "metadata": {},
   "source": [
    "# Model Selection"
   ]
  },
  {
   "cell_type": "code",
   "execution_count": null,
   "id": "4f27383e",
   "metadata": {},
   "outputs": [],
   "source": [
    "MLA_algorithms = [\n",
    "    # LinearRegression(),\n",
    "    Ridge(),\n",
    "    RandomForestRegressor(),\n",
    "    GradientBoostingRegressor(),\n",
    "    XGBRegressor(),\n",
    "    XGBRFRegressor(),\n",
    "    CatBoostRegressor(),\n",
    "    LGBMRegressor()\n",
    "]"
   ]
  },
  {
   "cell_type": "markdown",
   "id": "18b19e6a",
   "metadata": {},
   "source": [
    "## Cross Validation to assess the model performance"
   ]
  },
  {
   "cell_type": "code",
   "execution_count": null,
   "id": "eff960e7",
   "metadata": {},
   "outputs": [],
   "source": [
    "cv_split = ShuffleSplit(n_splits=10, train_size=0.6, test_size=0.3, random_state=25)\n",
    "\n",
    "MLA_columns = [\n",
    "    'MLA Name', \n",
    "    'MLA Parameters', \n",
    "    'MLA Train Accuracy Mean', \n",
    "    'MLA Test Accuracy Mean', \n",
    "    'MLA Test Accuracy 3*STD', \n",
    "    'MLA Time'\n",
    "]\n",
    "\n",
    "MLA_compare = pd.DataFrame(columns=MLA_columns)\n",
    "\n",
    "row_index = 0\n",
    "\n",
    "for alg in MLA_algorithms:\n",
    "\n",
    "    MLA_name = alg.__class__.__name__\n",
    "    MLA_compare.loc[row_index, 'MLA Name'] = MLA_name\n",
    "    MLA_compare.loc[row_index, 'MLA Parameters'] = str(alg.get_params())\n",
    "\n",
    "    cv_results = cross_validate(alg, X_train, y_train, cv=cv_split, return_train_score=True)\n",
    "\n",
    "    MLA_compare.loc[row_index, 'MLA Time'] = cv_results['fit_time'].mean()\n",
    "    MLA_compare.loc[row_index, 'MLA Train Accuracy Mean'] = cv_results['train_score'].mean()\n",
    "    MLA_compare.loc[row_index, 'MLA Test Accuracy Mean'] = cv_results['test_score'].mean()\n",
    "    MLA_compare.loc[row_index, 'MLA Test Accuracy 3*STD'] = cv_results['test_score'].std() * 3\n",
    "\n",
    "    row_index += 1\n",
    "\n",
    "\n",
    "MLA_compare.sort_values(by=['MLA Test Accuracy Mean'], ascending=False, inplace=True)\n",
    "MLA_compare"
   ]
  },
  {
   "cell_type": "code",
   "execution_count": null,
   "id": "a3520190",
   "metadata": {},
   "outputs": [],
   "source": [
    "sns.barplot(x='MLA Test Accuracy Mean', y='MLA Name', data=MLA_compare, color='m')\n",
    "\n",
    "plt.title('Machine Learning Algorithm Accuracy Score \\n')\n",
    "plt.xlabel('Accuracy Score (%)')\n",
    "plt.ylabel('Algorithm')"
   ]
  },
  {
   "cell_type": "markdown",
   "id": "523a9faf",
   "metadata": {},
   "source": [
    "# Hyperparameter tuning"
   ]
  },
  {
   "cell_type": "markdown",
   "id": "73321353",
   "metadata": {},
   "source": [
    "### Cat Boost Regressor"
   ]
  },
  {
   "cell_type": "code",
   "execution_count": null,
   "id": "6fb7019b",
   "metadata": {},
   "outputs": [],
   "source": [
    "cat_boost_regressor_params_grid = {\n",
    "    'iterations': [100, 500, 1000],\n",
    "    'learning_rate': [0.01, 0.05, 0.1],\n",
    "    'depth': [4, 6, 8, 10],\n",
    "    'l2_leaf_reg': [1, 3, 5, 7]\n",
    "}\n",
    "\n",
    "train_pool = Pool(X_train, y_train)\n",
    "\n",
    "cat_boost_regressor = CatBoostRegressor(task_type='GPU', devices='0', verbose=1)\n",
    "\n",
    "cat_boost_grid_search_result = cat_boost_regressor.grid_search(cat_boost_regressor_params_grid, train_pool, cv=5, refit=True, plot=True)"
   ]
  },
  {
   "cell_type": "code",
   "execution_count": null,
   "id": "699bc9af",
   "metadata": {},
   "outputs": [],
   "source": [
    "print(cat_boost_regressor.best_score_.get('learn').get('RMSE'))"
   ]
  },
  {
   "cell_type": "markdown",
   "id": "f5252159",
   "metadata": {},
   "source": [
    "### Gradient Boost Regressor"
   ]
  },
  {
   "cell_type": "code",
   "execution_count": null,
   "id": "7cafb1c7",
   "metadata": {},
   "outputs": [],
   "source": [
    "gradient_boosting_regressor_params_grid = {\n",
    "    'max_depth': [12, 15, 20],\n",
    "    'n_estimators': [200, 300, 1000],\n",
    "    'min_samples_leaf': [10, 25, 50],\n",
    "    'learning_rate': [0.001, 0.01, 0.1],\n",
    "    'max_features': [0.01, 0.1, 0.7]\n",
    "}\n",
    "\n",
    "gradient_boosting_regressor = GradientBoostingRegressor()\n",
    "\n",
    "grad_boost_grid_search_result = GridSearchCV(gradient_boosting_regressor, gradient_boosting_regressor_params_grid, cv=5, n_jobs=-1, verbose=1, refit=True)\n",
    "\n",
    "grad_boost_grid_search_result.fit(X_train, y_train)"
   ]
  },
  {
   "cell_type": "markdown",
   "id": "db4026eb",
   "metadata": {},
   "source": [
    "### Light GBM Regressor"
   ]
  },
  {
   "cell_type": "code",
   "execution_count": null,
   "id": "792f71ec",
   "metadata": {},
   "outputs": [],
   "source": [
    "lgbm_regressor_params_grid = {\n",
    "    'n_estimators': [100, 200, 300, 500],\n",
    "    'num_leaves': [20, 30, 50, 100],\n",
    "    'max_depth': [4, 6, 8, 10],\n",
    "    'learning_rate': [0.01, 0.05, 0.1],\n",
    "    'min_child_samples': [20, 30, 40],\n",
    "    'boosting_type': ['gbdt', 'dart']\n",
    "}\n",
    "\n",
    "lgbm_regressor = LGBMRegressor(verbose=-1)\n",
    "\n",
    "lgbm_grid_search_result = GridSearchCV(lgbm_regressor, lgbm_regressor_params_grid, cv=5, scoring='neg_mean_squared_error', n_jobs=1, verbose=0)\n",
    "\n",
    "lgbm_grid_search_result.fit(X_train, y_train)"
   ]
  },
  {
   "cell_type": "code",
   "execution_count": null,
   "id": "ded8bd0a",
   "metadata": {},
   "outputs": [],
   "source": [
    "np.sqrt(-1 * lgbm_grid_search_result.best_score_)"
   ]
  },
  {
   "cell_type": "markdown",
   "id": "159bb576",
   "metadata": {},
   "source": [
    "### Ridge"
   ]
  },
  {
   "cell_type": "code",
   "execution_count": null,
   "id": "99b55be7",
   "metadata": {},
   "outputs": [],
   "source": [
    "ridge_regressor_params_grid = {\n",
    "    'alpha': [0.1, 0.5, 1.0, 5.0, 10.0],\n",
    "    'solver': ['auto', 'svd', 'cholesky', 'lsqr', 'sparse_cg', 'sag', 'saga']\n",
    "}\n",
    "\n",
    "ridge_regressor = Ridge()\n",
    "\n",
    "ridge_grid_search_result = GridSearchCV(ridge_regressor, ridge_regressor_params_grid, cv=5, scoring='neg_mean_squared_error', n_jobs=1, verbose=0)\n",
    "\n",
    "ridge_grid_search_result.fit(X_train, y_train)"
   ]
  },
  {
   "cell_type": "code",
   "execution_count": null,
   "id": "3195295a",
   "metadata": {},
   "outputs": [],
   "source": [
    "np.sqrt(-1 * ridge_grid_search_result.best_score_)"
   ]
  },
  {
   "cell_type": "markdown",
   "id": "33a50b18",
   "metadata": {},
   "source": [
    "### Random Forest Regressor"
   ]
  },
  {
   "cell_type": "code",
   "execution_count": null,
   "id": "6b773c4b",
   "metadata": {},
   "outputs": [],
   "source": [
    "random_forest_regressor_params_grid = {\n",
    "    'n_estimators': [100, 200, 300, 500],\n",
    "    'max_depth': [4, 6, 8, 10],\n",
    "    'min_samples_split': [2, 5, 10],\n",
    "    'min_samples_leaf': [1, 2, 4],\n",
    "    'max_features': ['auto', 'sqrt', 'log2']\n",
    "}\n",
    "\n",
    "random_forest_regressor = RandomForestRegressor()\n",
    "\n",
    "random_forest_grid_search_result = GridSearchCV(random_forest_regressor, random_forest_regressor_params_grid, cv=5, scoring='neg_mean_squared_error', n_jobs=1, verbose=0)\n",
    "\n",
    "random_forest_grid_search_result.fit(X_train, y_train)\n"
   ]
  },
  {
   "cell_type": "code",
   "execution_count": null,
   "id": "fcea9b1e",
   "metadata": {},
   "outputs": [],
   "source": [
    "np.sqrt(-1 * random_forest_grid_search_result.best_score_)"
   ]
  },
  {
   "cell_type": "markdown",
   "id": "1ddd1493",
   "metadata": {},
   "source": [
    "### XGB Regressor"
   ]
  },
  {
   "cell_type": "code",
   "execution_count": null,
   "id": "4b9afb86",
   "metadata": {},
   "outputs": [],
   "source": [
    "xgb_regressor_params_grid = {\n",
    "    'n_estimators': [100, 200, 300, 500],\n",
    "    'max_depth': [4, 6, 8, 10],\n",
    "    'learning_rate': [0.01, 0.05, 0.1],\n",
    "    'subsample': [0.5, 0.7, 1.0],\n",
    "    'colsample_bytree': [0.5, 0.7, 1.0]\n",
    "}\n",
    "\n",
    "xgb_regressor = XGBRegressor(device='cuda', predictor='gpu_predictor')\n",
    "\n",
    "xgb_grid_search_result = GridSearchCV(xgb_regressor, xgb_regressor_params_grid, cv=5, scoring='neg_mean_squared_error', n_jobs=1, verbose=0)\n",
    "\n",
    "xgb_grid_search_result.fit(X_train, y_train)"
   ]
  },
  {
   "cell_type": "markdown",
   "id": "e6450079",
   "metadata": {},
   "source": [
    "### Voting Regressor"
   ]
  },
  {
   "cell_type": "code",
   "execution_count": null,
   "id": "c26b63c2",
   "metadata": {},
   "outputs": [],
   "source": [
    "voting_regressor = VotingRegressor(\n",
    "    estimators=[\n",
    "        ('lgbm', lgbm_grid_search_result.best_estimator_),\n",
    "        ('catboost', cat_boost_regressor),\n",
    "        ('xgb', xgb_grid_search_result.best_estimator_),\n",
    "    ]\n",
    ")\n",
    "\n",
    "voting_regressor.fit(X_train, y_train)"
   ]
  },
  {
   "cell_type": "code",
   "execution_count": null,
   "id": "90825a16",
   "metadata": {},
   "outputs": [],
   "source": [
    "mean_squared_error(y_test, voting_regressor.predict(X_test), squared=False)"
   ]
  },
  {
   "cell_type": "markdown",
   "id": "203e7fba",
   "metadata": {},
   "source": [
    "### Stacking Regressor"
   ]
  },
  {
   "cell_type": "code",
   "execution_count": null,
   "id": "a7040afe",
   "metadata": {},
   "outputs": [],
   "source": [
    "estimators = [\n",
    "    ('catboost', cat_boost_regressor),\n",
    "    ('lgbm', lgbm_grid_search_result.best_estimator_),\n",
    "    ('xgb', xgb_grid_search_result.best_estimator_),\n",
    "    ('ridge', ridge_grid_search_result.best_estimator_),\n",
    "    ('random_forest', random_forest_grid_search_result.best_estimator_),\n",
    "    ('gradient_boosting', grad_boost_grid_search_result.best_estimator_)\n",
    "]\n",
    "\n",
    "stacking_regressor = StackingRegressor(\n",
    "    estimators=estimators,\n",
    "    final_estimator=voting_regressor\n",
    ")\n",
    "\n",
    "stacking_regressor.fit(X_train, y_train)"
   ]
  },
  {
   "cell_type": "code",
   "execution_count": null,
   "id": "ef9292b2",
   "metadata": {},
   "outputs": [],
   "source": [
    "y_pred = stacking_regressor.predict(X_test)\n",
    "\n",
    "mean_squared_error(y_test, y_pred, squared=False)"
   ]
  },
  {
   "cell_type": "markdown",
   "id": "9333151a",
   "metadata": {},
   "source": [
    "# Final Test"
   ]
  },
  {
   "cell_type": "code",
   "execution_count": null,
   "id": "9539d866",
   "metadata": {},
   "outputs": [],
   "source": [
    "print(test_data.columns.to_list())"
   ]
  },
  {
   "cell_type": "code",
   "execution_count": null,
   "id": "debc87f6",
   "metadata": {},
   "outputs": [],
   "source": [
    "print(test_data.columns.to_list())"
   ]
  },
  {
   "cell_type": "code",
   "execution_count": null,
   "id": "21944ac2",
   "metadata": {},
   "outputs": [],
   "source": [
    "print(len(test_data.columns.tolist()))"
   ]
  },
  {
   "cell_type": "code",
   "execution_count": null,
   "id": "972aa92f",
   "metadata": {},
   "outputs": [],
   "source": [
    "print(len(X.columns.tolist()))"
   ]
  },
  {
   "cell_type": "code",
   "execution_count": null,
   "id": "7807d72f",
   "metadata": {},
   "outputs": [],
   "source": [
    "submission = test_data[['Id']]"
   ]
  },
  {
   "cell_type": "code",
   "execution_count": null,
   "id": "5bcf2996",
   "metadata": {},
   "outputs": [],
   "source": [
    "#test_data = test_data.drop('Id', axis=1)\n",
    "\n",
    "transformed_test_data = pipeline.transform(test_data)"
   ]
  },
  {
   "cell_type": "code",
   "execution_count": null,
   "id": "f56db032",
   "metadata": {},
   "outputs": [],
   "source": [
    "y_pred_test = np.exp(stacking_regressor.predict(transformed_test_data))"
   ]
  },
  {
   "cell_type": "code",
   "execution_count": null,
   "id": "8ba50aa8",
   "metadata": {},
   "outputs": [],
   "source": [
    "# submission = test_data[['Id']]\n",
    "# submission['SalePrice'] = y_pred_test\n",
    "\n",
    "# submission.to_csv('submission.csv', index=False)"
   ]
  }
 ],
 "metadata": {
  "kernelspec": {
   "display_name": "Python 3",
   "language": "python",
   "name": "python3"
  },
  "language_info": {
   "codemirror_mode": {
    "name": "ipython",
    "version": 3
   },
   "file_extension": ".py",
   "mimetype": "text/x-python",
   "name": "python",
   "nbconvert_exporter": "python",
   "pygments_lexer": "ipython3",
   "version": "3.11.9"
  }
 },
 "nbformat": 4,
 "nbformat_minor": 5
}
